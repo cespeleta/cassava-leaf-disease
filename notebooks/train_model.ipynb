{
 "cells": [
  {
   "cell_type": "code",
   "execution_count": 1,
   "metadata": {},
   "outputs": [],
   "source": [
    "%load_ext autoreload\n",
    "%autoreload 2\n",
    "\n",
    "import warnings\n",
    "from pathlib import Path\n",
    "\n",
    "from leaf_disease.datasets.dataset import LeafImageDataModule, DataAugmentation\n",
    "from leaf_disease.models import Resnet, Efficientnet, ResnetSSL\n",
    "from leaf_disease.lit_models.lit_model import LitModel\n",
    "\n",
    "import lightning as L\n",
    "from lightning.pytorch.loggers import TensorBoardLogger\n",
    "from lightning.pytorch.callbacks import EarlyStopping, ModelCheckpoint, LearningRateMonitor\n",
    "from lightning.pytorch.utilities.warnings import PossibleUserWarning\n",
    "\n",
    "warnings.filterwarnings(\"ignore\", category=PossibleUserWarning)\n",
    "\n",
    "import albumentations as A\n",
    "from albumentations.pytorch import ToTensorV2"
   ]
  },
  {
   "cell_type": "code",
   "execution_count": 2,
   "metadata": {},
   "outputs": [
    {
     "data": {
      "text/plain": [
       "ImageClassification(\n",
       "    crop_size=[224]\n",
       "    resize_size=[256]\n",
       "    mean=[0.485, 0.456, 0.406]\n",
       "    std=[0.229, 0.224, 0.225]\n",
       "    interpolation=InterpolationMode.BILINEAR\n",
       ")"
      ]
     },
     "execution_count": 2,
     "metadata": {},
     "output_type": "execute_result"
    }
   ],
   "source": [
    "# model transforms\n",
    "from torchvision.models import resnet\n",
    "\n",
    "resnet.ResNet50_Weights.IMAGENET1K_V1.transforms()"
   ]
  },
  {
   "cell_type": "code",
   "execution_count": 3,
   "metadata": {},
   "outputs": [
    {
     "data": {
      "text/plain": [
       "ImageClassification(\n",
       "    crop_size=[224]\n",
       "    resize_size=[232]\n",
       "    mean=[0.485, 0.456, 0.406]\n",
       "    std=[0.229, 0.224, 0.225]\n",
       "    interpolation=InterpolationMode.BILINEAR\n",
       ")"
      ]
     },
     "execution_count": 3,
     "metadata": {},
     "output_type": "execute_result"
    }
   ],
   "source": [
    "resnet.ResNet50_Weights.IMAGENET1K_V2.transforms()"
   ]
  },
  {
   "cell_type": "code",
   "execution_count": 5,
   "metadata": {},
   "outputs": [
    {
     "data": {
      "text/plain": [
       "<leaf_disease.datasets.augmentation.DataAugmentation at 0x28d260890>"
      ]
     },
     "execution_count": 5,
     "metadata": {},
     "output_type": "execute_result"
    }
   ],
   "source": [
    "# Albumentations library\n",
    "image_size = 512\n",
    "\n",
    "transforms = DataAugmentation(image_size)\n",
    "transforms"
   ]
  },
  {
   "cell_type": "code",
   "execution_count": 7,
   "metadata": {},
   "outputs": [],
   "source": [
    "# {\n",
    "#     \"resnet18\": {\"model\": \"resnet18\", \"weights\": \"ResNet18_Weights.IMAGENET1K_V1\"},\n",
    "#     \"resnext50_32x4d_v1\": {\"model\": \"resnext50_32x4d\", \"weights\": \"ResNeXt50_32X4D_Weights.IMAGENET1K_V1\"},\n",
    "#     \"resnext50_32x4d_v2\": {\"model\": \"resnext50_32x4d\", \"weights\": \"ResNeXt50_32X4D_Weights.IMAGENET1K_V2\"}\n",
    "# }"
   ]
  },
  {
   "cell_type": "code",
   "execution_count": 8,
   "metadata": {},
   "outputs": [
    {
     "name": "stderr",
     "output_type": "stream",
     "text": [
      "Using cache found in /Users/cespeleta/.cache/torch/hub/pytorch_vision_main\n"
     ]
    }
   ],
   "source": [
    "train_image_path = Path(\"input\")\n",
    "\n",
    "# Data module\n",
    "dm = LeafImageDataModule(\n",
    "    image_path=train_image_path, \n",
    "    batch_size=32, \n",
    "    num_workers=4,\n",
    "    transforms=transforms\n",
    ")\n",
    "\n",
    "# download resnet18 from the hub\n",
    "# The current behavior is equivalent to passing `weights=ResNet18_Weights.IMAGENET1K_V1`. \n",
    "# You can also use `weights=ResNet18_Weights.DEFAULT` to get the most up-to-date weights\n",
    "# resnext50_32x4d_ssl\n",
    "model_name = \"resnext50_32x4d\"\n",
    "weights = \"ResNeXt50_32X4D_Weights.IMAGENET1K_V2\"\n",
    "pytorch_model = Resnet(num_classes=5, model=model_name, weights=\"DEFAULT\")\n",
    "\n",
    "# model_name = \"efficientnet_b0\"\n",
    "# pytorch_model = Efficientnet(num_classes=5, model=model_name, weights=\"DEFAULT\")\n",
    "# pytorch_model"
   ]
  },
  {
   "cell_type": "code",
   "execution_count": 9,
   "metadata": {},
   "outputs": [],
   "source": [
    "# Initialize Lightning model.\n",
    "lit_model = LitModel(pytorch_model=pytorch_model, learning_rate=1e-4, weight_decay=1e-6)"
   ]
  },
  {
   "cell_type": "code",
   "execution_count": 10,
   "metadata": {},
   "outputs": [],
   "source": [
    "monitor = \"val_acc\"\n",
    "mode = \"max\"\n",
    "\n",
    "callbacks = [\n",
    "    EarlyStopping(monitor=monitor, patience=2, verbose=True, mode=mode),\n",
    "    ModelCheckpoint(filename=\"best\", monitor=monitor, mode=mode, verbose=True, save_last=True),\n",
    "    LearningRateMonitor(logging_interval=\"epoch\", log_momentum=True)\n",
    "]"
   ]
  },
  {
   "cell_type": "code",
   "execution_count": 11,
   "metadata": {},
   "outputs": [
    {
     "name": "stderr",
     "output_type": "stream",
     "text": [
      "Global seed set to 123\n",
      "GPU available: True (mps), used: True\n",
      "TPU available: False, using: 0 TPU cores\n",
      "IPU available: False, using: 0 IPUs\n",
      "HPU available: False, using: 0 HPUs\n"
     ]
    }
   ],
   "source": [
    "L.seed_everything(123)\n",
    "\n",
    "trainer = L.Trainer(\n",
    "    callbacks=callbacks,\n",
    "    max_epochs=10,\n",
    "    accelerator=\"mps\",\n",
    "    devices=1,\n",
    "    logger=TensorBoardLogger(save_dir=\"logs/\", name=model_name, sub_dir=\"tf_logs\"),\n",
    "    deterministic=True,\n",
    "    gradient_clip_val=0.1,  # from Kaggle Notebook\n",
    "    num_sanity_val_steps=1\n",
    ")"
   ]
  },
  {
   "cell_type": "code",
   "execution_count": 11,
   "metadata": {},
   "outputs": [
    {
     "name": "stderr",
     "output_type": "stream",
     "text": [
      "Missing logger folder: logs/resnext50_32x4d\n"
     ]
    },
    {
     "name": "stdout",
     "output_type": "stream",
     "text": [
      "len(train_image_paths)=17117\n",
      "len(valid_image_paths)=4280\n"
     ]
    },
    {
     "name": "stderr",
     "output_type": "stream",
     "text": [
      "\n",
      "  | Name          | Type               | Params | In sizes       | Out sizes\n",
      "----------------------------------------------------------------------------------\n",
      "0 | pytorch_model | Resnet             | 23.0 M | [1, 3, 32, 32] | [1, 5]   \n",
      "1 | train_acc     | MulticlassAccuracy | 0      | ?              | ?        \n",
      "2 | valid_acc     | MulticlassAccuracy | 0      | ?              | ?        \n",
      "3 | test_acc      | MulticlassAccuracy | 0      | ?              | ?        \n",
      "----------------------------------------------------------------------------------\n",
      "23.0 M    Trainable params\n",
      "0         Non-trainable params\n",
      "23.0 M    Total params\n",
      "91.961    Total estimated model params size (MB)\n"
     ]
    },
    {
     "name": "stdout",
     "output_type": "stream",
     "text": [
      "                                                                           \r"
     ]
    },
    {
     "name": "stderr",
     "output_type": "stream",
     "text": [
      "/Users/cespeleta/Projects/cassava-leaf-disease/.venv/lib/python3.11/site-packages/torchmetrics/functional/classification/accuracy.py:65: UserWarning: MPS: no support for int64 reduction ops, casting it to int32 (Triggered internally at /Users/runner/work/pytorch/pytorch/pytorch/aten/src/ATen/native/mps/operations/ReduceOps.mm:144.)\n",
      "  tp = tp.sum(dim=0 if multidim_average == \"global\" else 1)\n"
     ]
    },
    {
     "name": "stdout",
     "output_type": "stream",
     "text": [
      "Epoch 0: 100%|██████████| 534/534 [08:11<00:00,  1.09it/s, v_num=0, val_loss=0.473, val_acc=0.839, train_acc=0.782]"
     ]
    },
    {
     "name": "stderr",
     "output_type": "stream",
     "text": [
      "Metric val_acc improved. New best score: 0.839\n",
      "Epoch 0, global step 534: 'val_acc' reached 0.83949 (best 0.83949), saving model to 'logs/resnext50_32x4d/version_0/checkpoints/best.ckpt' as top 1\n"
     ]
    },
    {
     "name": "stdout",
     "output_type": "stream",
     "text": [
      "Epoch 1: 100%|██████████| 534/534 [08:17<00:00,  1.07it/s, v_num=0, val_loss=0.464, val_acc=0.843, train_acc=0.851]"
     ]
    },
    {
     "name": "stderr",
     "output_type": "stream",
     "text": [
      "Metric val_acc improved by 0.004 >= min_delta = 0.0. New best score: 0.843\n",
      "Epoch 1, global step 1068: 'val_acc' reached 0.84346 (best 0.84346), saving model to 'logs/resnext50_32x4d/version_0/checkpoints/best.ckpt' as top 1\n"
     ]
    },
    {
     "name": "stdout",
     "output_type": "stream",
     "text": [
      "Epoch 2: 100%|██████████| 534/534 [08:01<00:00,  1.11it/s, v_num=0, val_loss=0.459, val_acc=0.849, train_acc=0.864]"
     ]
    },
    {
     "name": "stderr",
     "output_type": "stream",
     "text": [
      "Metric val_acc improved by 0.005 >= min_delta = 0.0. New best score: 0.849\n",
      "Epoch 2, global step 1602: 'val_acc' reached 0.84860 (best 0.84860), saving model to 'logs/resnext50_32x4d/version_0/checkpoints/best.ckpt' as top 1\n"
     ]
    },
    {
     "name": "stdout",
     "output_type": "stream",
     "text": [
      "Epoch 3: 100%|██████████| 534/534 [07:57<00:00,  1.12it/s, v_num=0, val_loss=0.466, val_acc=0.850, train_acc=0.881]"
     ]
    },
    {
     "name": "stderr",
     "output_type": "stream",
     "text": [
      "Metric val_acc improved by 0.002 >= min_delta = 0.0. New best score: 0.850\n",
      "Epoch 3, global step 2136: 'val_acc' reached 0.85023 (best 0.85023), saving model to 'logs/resnext50_32x4d/version_0/checkpoints/best.ckpt' as top 1\n"
     ]
    },
    {
     "name": "stdout",
     "output_type": "stream",
     "text": [
      "Epoch 4: 100%|██████████| 534/534 [07:56<00:00,  1.12it/s, v_num=0, val_loss=0.454, val_acc=0.850, train_acc=0.894]"
     ]
    },
    {
     "name": "stderr",
     "output_type": "stream",
     "text": [
      "Epoch 4, global step 2670: 'val_acc' was not in top 1\n"
     ]
    },
    {
     "name": "stdout",
     "output_type": "stream",
     "text": [
      "Epoch 5: 100%|██████████| 534/534 [07:56<00:00,  1.12it/s, v_num=0, val_loss=0.467, val_acc=0.850, train_acc=0.909]"
     ]
    },
    {
     "name": "stderr",
     "output_type": "stream",
     "text": [
      "Monitored metric val_acc did not improve in the last 2 records. Best score: 0.850. Signaling Trainer to stop.\n",
      "Epoch 5, global step 3204: 'val_acc' was not in top 1\n"
     ]
    },
    {
     "name": "stdout",
     "output_type": "stream",
     "text": [
      "Epoch 5: 100%|██████████| 534/534 [07:57<00:00,  1.12it/s, v_num=0, val_loss=0.467, val_acc=0.850, train_acc=0.909]\n"
     ]
    }
   ],
   "source": [
    "trainer.fit(model=lit_model, datamodule=dm)"
   ]
  },
  {
   "cell_type": "code",
   "execution_count": 13,
   "metadata": {},
   "outputs": [
    {
     "data": {
      "text/plain": [
       "tensor(0.8832, device='mps:0')"
      ]
     },
     "execution_count": 13,
     "metadata": {},
     "output_type": "execute_result"
    }
   ],
   "source": [
    "trainer.callbacks[0].best_score"
   ]
  },
  {
   "attachments": {},
   "cell_type": "markdown",
   "metadata": {},
   "source": [
    "# Inference"
   ]
  },
  {
   "cell_type": "code",
   "execution_count": null,
   "metadata": {},
   "outputs": [],
   "source": [
    "dm.setup()\n",
    "test_dl = dm.predict_dataloader()"
   ]
  },
  {
   "cell_type": "code",
   "execution_count": null,
   "metadata": {},
   "outputs": [],
   "source": [
    "import numpy as np\n",
    "import torch\n",
    "\n",
    "# Load checkpoints\n",
    "chk_path = trainer.callbacks[-1].best_model_path\n",
    "# chk_path = \"logs/run-top3-512/resnext50_32x4d/checkpoints/best.ckpt\"\n",
    "print(chk_path)\n",
    "chk = torch.load(chk_path)\n",
    "\n",
    "# Prepare weights dict\n",
    "# model_weights = {k: v for k, v in chk[\"state_dict\"].items()}\n",
    "model_weights = {k.replace(\"model.\", \"\"): v for k, v in chk[\"state_dict\"].items()}\n",
    "model_weights = {k.replace(\"pytorch_model.\", \"\"): v for k, v in chk[\"state_dict\"].items()}\n",
    "\n",
    "# Init model and set eval mode\n",
    "model = Resnet(model=\"resnext50_32x4d\")\n",
    "model.load_state_dict(model_weights, strict=False)\n",
    "model.to(\"mps\")\n",
    "model.eval()"
   ]
  },
  {
   "cell_type": "code",
   "execution_count": null,
   "metadata": {},
   "outputs": [],
   "source": [
    "import pandas as pd\n",
    "test_df = pd.read_csv(\"input/sample_submission.csv\")\n",
    "\n",
    "final_preds = []\n",
    "with torch.no_grad():\n",
    "    for xb, _ in test_dl:\n",
    "        xb = xb.to(\"mps\")  #.unsqueeze(0)\n",
    "        batch_pred = model(xb)\n",
    "        final_preds.append(batch_pred.to(\"cpu\").detach())\n",
    "\n",
    "final_pred_class = np.vstack(final_preds).argmax(axis=1)\n",
    "test_df.label = final_pred_class\n",
    "# test_df.to_csv(\"submission.csv\", index=False)\n",
    "test_df"
   ]
  },
  {
   "cell_type": "code",
   "execution_count": null,
   "metadata": {},
   "outputs": [],
   "source": []
  }
 ],
 "metadata": {
  "kernelspec": {
   "display_name": ".venv",
   "language": "python",
   "name": "python3"
  },
  "language_info": {
   "codemirror_mode": {
    "name": "ipython",
    "version": 3
   },
   "file_extension": ".py",
   "mimetype": "text/x-python",
   "name": "python",
   "nbconvert_exporter": "python",
   "pygments_lexer": "ipython3",
   "version": "3.11.2"
  },
  "orig_nbformat": 4
 },
 "nbformat": 4,
 "nbformat_minor": 2
}
